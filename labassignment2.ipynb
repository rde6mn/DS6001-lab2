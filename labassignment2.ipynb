{
 "cells": [
  {
   "cell_type": "markdown",
   "metadata": {},
   "source": [
    "# Lab Assignment 2: How to Load CSV, ASCII, and other data into Python\n",
    "## DS 6001\n",
    "\n",
    "100 points\n",
    "\n",
    "### Instructions\n",
    "Please answer the following questions as completely as possible using text, code, and the results of code as needed. Format your answers in a Jupyter notebook. To receive full credit, make sure you address every part of the problem, and make sure your document is formatted in a clean and professional way.\n",
    "\n",
    "## Problem 1\n",
    "\n",
    "There are several data files attached to this lab assignment, with different extensions. First, download all of these data files, and save them in the same folder on your local machine. Your task in the following questions is to load each file into Python correctly, so that you can begin the process of data cleaning. If the variable names are included in the file, use those names to name the columns. If the variable names are not included, use these names in order:\n"
   ]
  },
  {
   "cell_type": "code",
   "execution_count": 1,
   "metadata": {},
   "outputs": [],
   "source": [
    "column_names = [\"Country\", \"Happiness score\", \"Whisker-high\", \"Whisker-low\", \n",
    "  \"Dystopia (1.92) + residual\", \"Explained by: GDP per capita\", \n",
    "  \"Explained by: Social support\", \"Explained by: Healthy life expectancy\", \n",
    "  \"Explained by: Freedom to make life choices\", \"Explained by: Generosity\", \n",
    "  \"Explained by: Perceptions of corruption\" ]"
   ]
  },
  {
   "cell_type": "markdown",
   "metadata": {},
   "source": [
    "### Part a\n",
    "Import the packages you will need. Then write code to change the working directory to the folder in which you saved the data files, run the code displayed above to create the `column_names` list, load `data_clean.csv`, and display the output of the `.info()` method of `data_clean`. [4 points]"
   ]
  },
  {
   "cell_type": "markdown",
   "metadata": {},
   "source": [
    "### Part b\n",
    "Load `data1.csv`. Use the tools we discussed in class to decide whether the data file loaded correctly, and include that code in your lab report. In one or two sentences, describe how you decided on the right combination of parameters needed to load the data. [4 points]"
   ]
  },
  {
   "cell_type": "markdown",
   "metadata": {},
   "source": [
    "### Part c\n",
    "Load `data2.txt`. Use the tools we discussed in class to decide whether the data file loaded correctly, and include that code in your lab report. In one or two sentences, describe how you decided on the right combination of parameters needed to load the data. [6 points]"
   ]
  },
  {
   "cell_type": "markdown",
   "metadata": {},
   "source": [
    "### Part d\n",
    "Load `data3.txt`. Use the tools we discussed in class to decide whether the data file loaded correctly, and include that code in your lab report. In one or two sentences, describe how you decided on the right combination of parameters needed to load the data. [4 points]"
   ]
  },
  {
   "cell_type": "markdown",
   "metadata": {},
   "source": [
    "### Part e\n",
    "Load `data4.txt`. Use the tools we discussed in class to decide whether the data file loaded correctly, and include that code in your lab report. In one or two sentences, describe how you decided on the right combination of parameters needed to load the data. [4 points]"
   ]
  },
  {
   "cell_type": "markdown",
   "metadata": {},
   "source": [
    "### Part f\n",
    "Load `data5.csv`. Use the tools we discussed in class to decide whether the data file loaded correctly, and include that code in your lab report. In one or two sentences, describe how you decided on the right combination of parameters needed to load the data. [4 points]"
   ]
  },
  {
   "cell_type": "markdown",
   "metadata": {},
   "source": [
    "### Part g\n",
    "Load `data6.dat`. Use the tools we discussed in class to decide whether the data file loaded correctly, and include that code in your lab report. In one or two sentences, describe how you decided on the right combination of parameters needed to load the data. (Note: for this question, your result won't look *exactly* like data_clean.csv, and that is OK.) [6 points]"
   ]
  },
  {
   "cell_type": "markdown",
   "metadata": {},
   "source": [
    "### Part h\n",
    "Load `data7.xlsx`, which is an Excel file. Keep only the sheet named “Data”. Use the tools we discussed in class to decide whether the data file loaded correctly, and include that code in your lab report. In one or two sentences, describe how you decided on the right combination of parameters needed to load the data. [4 points]"
   ]
  },
  {
   "cell_type": "markdown",
   "metadata": {},
   "source": [
    "### Part i\n",
    "Load `data8.dta`, which is a Stata 13 file. Use the tools we discussed in class to decide whether the data file loaded correctly, and include that code in your lab report. In one or two sentences, describe how you decided on the right combination of parameters needed to load the data. [4 points]"
   ]
  },
  {
   "cell_type": "markdown",
   "metadata": {},
   "source": [
    "### Part j\n",
    "Load `data9.sav`, which is an SPSS file. Use the tools we discussed in class to decide whether the data file loaded correctly, and include that code in your lab report. In one or two sentences, describe how you decided on the right combination of parameters needed to load the data. [4 points]"
   ]
  },
  {
   "cell_type": "markdown",
   "metadata": {},
   "source": [
    "### Part k\n",
    "Load `data10.xpt`, which is a SAS file. Use the tools we discussed in class to decide whether the data file loaded correctly, and include that code in your lab report. In one or two sentences, describe how you decided on the right combination of parameters needed to load the data. \n",
    "\n",
    "(If some of the country names display as `b'Finland'`, don't worry about that.)\n",
    "\n",
    "(But if you are still worrying about it ... issues like `b'Finland'` indicate a [character encoding](https://en.wikipedia.org/wiki/Character_encoding) issue, in which SAS uses a different encoding method than Python. In this case Python uses a default encoding called [UTF-8](https://en.wikipedia.org/wiki/UTF-8) and this SAS file has encoded characters using [Latin-1](https://en.wikipedia.org/wiki/ISO/IEC_8859-1). To get around this issue, add the `encoding='latin-1'` argument to your read method.) \n",
    "\n",
    "[4 points]"
   ]
  },
  {
   "cell_type": "markdown",
   "metadata": {},
   "source": [
    "### Part l\n",
    "Please load the `data11.txt` file, which is a fixed width file. The columns are defined as follows:\n",
    "\n",
    "| Variable                                   | Width | Start | End |\n",
    "|--------------------------------------------|-------|-------|-----|\n",
    "| Country                                    | 24    | 1     | 24  |\n",
    "| Happiness score                            | 5     | 25    | 29  |\n",
    "| Whisker-high                               | 5     | 30    | 34  |\n",
    "| Whisker-low                                | 5     | 35    | 39  |\n",
    "| Dystopia (1.92) + residual                 | 5     | 40    | 44  |\n",
    "| Explained by: GDP per capita               | 5     | 45    | 49  |\n",
    "| Explained by: Social support               | 5     | 50    | 54  |\n",
    "| Explained by: Healthy life expectancy      | 5     | 55    | 59  |\n",
    "| Explained by: Freedom to make life choices | 5     | 60    | 64  |\n",
    "| Explained by: Generosity                   | 5     | 65    | 69  |\n",
    "| Explained by: Perceptions of corruption    | 5     | 70    | 74  |\n",
    "\n",
    "Then save the this loaded data frame as a CSV file on your local machine. Be sure to use a unique filename so as not to overwrite any existing files. [10 points]"
   ]
  },
  {
   "cell_type": "markdown",
   "metadata": {},
   "source": [
    "## Problem 2\n",
    "This problem walks through how to wrangle some difficult real-world Excel data into Python. This problem is guided, but later in the semester you'll be asked more often to do work with less guidance. \n",
    "\n",
    "The file named \"epa_data.xlsx\" contains data on the reproduction and growth of nine different plant species, measured once in 2010 and once in 2011. The data were compiled from the [EPA's repository](https://catalog.data.gov/dataset/18-excel-spreadsheets-by-species-and-year-giving-reproduction-and-growth-data-one-excel-sp) on data.gov. I placed all of the data into a single file, where the different species/year combinations are placed in different sheets. The file also includes a sheet for herbicide treatment chemistry data, and one sheet for a ReadMe describing some of the columns in the growth data.\n",
    "\n",
    "### Part a\n",
    "If you load an Excel file with multiple sheets into Python using the `sheet_name=None` argument, then every sheet's data will be stored in one big Python dictionary. \n",
    "\n",
    "We will discuss dictionaries (and JSON formatted data) in depth in module 3. However, for this problem, there a few points to know about dictionaries:\n",
    "\n",
    "* Dictionaries are similar to lists, except that they are denoted with curly braces {} instead of square braces [], and that entries in the dictionary are indexed by names instead of numeric positions.\n",
    "\n",
    "* Entries in a dictionary are called values, and the names attached to the entries are called keys. Your output will set the former sheet names as the keys for each data table.\n",
    "\n",
    "* To display one of the values, call the Python variable that contains the dictionary, and index it by the value's key. For example, if you save the data as `epadata`, then you can see the 2010 data for species CALE by typing `epadata['CALE 2010']`. \n",
    "\n",
    "Load all of the data, across all of the sheets, from this Excel file into Python. Then index to one of the values in the resulting dictionary to display one of the former sheets as a pandas dataframe. [8 points]"
   ]
  },
  {
   "cell_type": "markdown",
   "metadata": {},
   "source": [
    "### Part b\n",
    "To see all of the keys in the dictionary, use the `.keys()` method on the data dictionary you created in part a. If you do, you will notice that two keys are not like the others:\n",
    "\n",
    "* `Solution Chemistry` contains different data: information about common pesticides instead of the growth and reproduction of a particular species of plant.\n",
    "\n",
    "* `ReadMe` contains descriptions of some columns in the species-level data.\n",
    "\n",
    "To delete a key and value from a dictionary, use the following syntax `del d[key]`, where `d` is the Python variable that contains the dictionary, and `key` is the name (quotes included) of the key attached to the value you want to remove from the dictionary. If you use this command, the dictionary is altered *in place*, meaning that there is no need to write `d=` before this command in order to make these edits to the dictionary permanent.\n",
    "\n",
    "Delete the `Solution Chemistry` and `ReadMe` data from the dictionary. [8 points]"
   ]
  },
  {
   "cell_type": "markdown",
   "metadata": {},
   "source": [
    "### Part c\n",
    "Combining two data tables with the same columns but entirely different rows is called **appending** data. Our goal is to append all of the remaining data tables together, to create one large dataframe containing all plant species and both 2010 and 2011 data. \n",
    "\n",
    "It is only possible, however, to append data if both data tables have exactly the same column names. If a column in one table is not matched in the other table, the column will be populated with missing values for the rows that come from the second table. There are two reasons why columns might not match: the two tables might not contain the same features, or the two tables contain the same feature but named differently in each table. \n",
    "\n",
    "For example, in this case, some of the sheets have columns that others do not, such as biomass. Other features are present in every sheet, but with different names: year is sometimes spelled with a capital Y.\n",
    "\n",
    "To deal with these issues, we will use a loop over the keys in the dictionary you edited in part b. Begin the loop by typing \n",
    "```\n",
    "for df in d.keys():\n",
    "```\n",
    "where `d` is the name of your dictionary.\n",
    "\n",
    "On the next line, indent (which indicates this line should be run within the loop). Then write\n",
    "```\n",
    "d[df].columns = d[df].columns.str.lower()\n",
    "```\n",
    "which will alter all column names across all of the dataframes to be lower-case.\n",
    "\n",
    "In addition, some of the column names have extra spaces at the end, and that will make columns fail to match as well. To remove these spaces, add the following line to the loop:\n",
    "\n",
    "```\n",
    "d[df].columns = d[df].columns.str.strip()\n",
    "```\n",
    "which removes leading and trailing spaces from each column name. [10 points]"
   ]
  },
  {
   "cell_type": "markdown",
   "metadata": {},
   "source": [
    "### Part d\n",
    "Use the `pd.concat()` method to append all of the dataframes in your dictionary together. You can pass the entire dictionary to the first argument of `pd.concat()`. Specify `ignore_index=True`, which resets the row numbering instead of bringing in the old row numbers from the individual dataframes. [8 points]"
   ]
  },
  {
   "cell_type": "markdown",
   "metadata": {},
   "source": [
    "### Part e\n",
    "Many of the features that were brought into the appended dataframe were only present for one or a small number of the dataframes. Keep only the following features, which are present for most of the species:"
   ]
  },
  {
   "cell_type": "code",
   "execution_count": 37,
   "metadata": {},
   "outputs": [],
   "source": [
    "cols_to_keep = ['year', 'species', 'site', 'plot', 'trt', 'treatment', \n",
    "                'pods', 'cover0', 'arsincover0', 'cover3', 'arsincover3', \n",
    "                'cover5', 'arsincover5']"
   ]
  },
  {
   "cell_type": "markdown",
   "metadata": {},
   "source": [
    "Then save the resulting data in a separate CSV file. [8 points]"
   ]
  }
 ],
 "metadata": {
  "kernelspec": {
   "display_name": "ds6001summer2025",
   "language": "python",
   "name": "python3"
  },
  "language_info": {
   "codemirror_mode": {
    "name": "ipython",
    "version": 3
   },
   "file_extension": ".py",
   "mimetype": "text/x-python",
   "name": "python",
   "nbconvert_exporter": "python",
   "pygments_lexer": "ipython3",
   "version": "3.13.2"
  }
 },
 "nbformat": 4,
 "nbformat_minor": 4
}
