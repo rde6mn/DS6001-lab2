{
 "cells": [
  {
   "cell_type": "markdown",
   "metadata": {},
   "source": [
    "# Lab Assignment 2: How to Load CSV, ASCII, and other data into Python\n",
    "## DS 6001\n",
    "\n",
    "100 points\n",
    "\n",
    "### Instructions\n",
    "Please answer the following questions as completely as possible using text, code, and the results of code as needed. Format your answers in a Jupyter notebook. To receive full credit, make sure you address every part of the problem, and make sure your document is formatted in a clean and professional way.\n",
    "\n",
    "## Problem 1\n",
    "\n",
    "There are several data files attached to this lab assignment, with different extensions. First, download all of these data files, and save them in the same folder on your local machine. Your task in the following questions is to load each file into Python correctly, so that you can begin the process of data cleaning. If the variable names are included in the file, use those names to name the columns. If the variable names are not included, use these names in order:\n"
   ]
  },
  {
   "cell_type": "code",
   "execution_count": 5,
   "metadata": {},
   "outputs": [],
   "source": [
    "column_names = [\"Country\", \"Happiness score\", \"Whisker-high\", \"Whisker-low\", \n",
    "  \"Dystopia (1.92) + residual\", \"Explained by: GDP per capita\", \n",
    "  \"Explained by: Social support\", \"Explained by: Healthy life expectancy\", \n",
    "  \"Explained by: Freedom to make life choices\", \"Explained by: Generosity\", \n",
    "  \"Explained by: Perceptions of corruption\" ]"
   ]
  },
  {
   "cell_type": "markdown",
   "metadata": {},
   "source": [
    "### Part a\n",
    "Import the packages you will need. Then write code to change the working directory to the folder in which you saved the data files, run the code displayed above to create the `column_names` list, load `data_clean.csv`, and display the output of the `.info()` method of `data_clean`. [4 points]"
   ]
  },
  {
   "cell_type": "code",
   "execution_count": 3,
   "metadata": {},
   "outputs": [],
   "source": [
    "import pandas as pd\n",
    "import numpy as np\n",
    "import os"
   ]
  },
  {
   "cell_type": "code",
   "execution_count": 4,
   "metadata": {},
   "outputs": [],
   "source": [
    "os.chdir(\"lab data/lab data\") "
   ]
  },
  {
   "cell_type": "code",
   "execution_count": 6,
   "metadata": {},
   "outputs": [],
   "source": [
    "df_clean = pd.read_csv(\"data_clean.csv\")"
   ]
  },
  {
   "cell_type": "code",
   "execution_count": 7,
   "metadata": {},
   "outputs": [
    {
     "name": "stdout",
     "output_type": "stream",
     "text": [
      "<class 'pandas.core.frame.DataFrame'>\n",
      "RangeIndex: 156 entries, 0 to 155\n",
      "Data columns (total 11 columns):\n",
      " #   Column                                      Non-Null Count  Dtype  \n",
      "---  ------                                      --------------  -----  \n",
      " 0   Country                                     156 non-null    object \n",
      " 1   Happiness score                             156 non-null    float64\n",
      " 2   Whisker-high                                156 non-null    float64\n",
      " 3   Whisker-low                                 156 non-null    float64\n",
      " 4   Dystopia (1.92) + residual                  156 non-null    float64\n",
      " 5   Explained by: GDP per capita                156 non-null    float64\n",
      " 6   Explained by: Social support                156 non-null    float64\n",
      " 7   Explained by: Healthy life expectancy       156 non-null    float64\n",
      " 8   Explained by: Freedom to make life choices  156 non-null    float64\n",
      " 9   Explained by: Generosity                    156 non-null    float64\n",
      " 10  Explained by: Perceptions of corruption     156 non-null    float64\n",
      "dtypes: float64(10), object(1)\n",
      "memory usage: 13.5+ KB\n"
     ]
    }
   ],
   "source": [
    "df_clean.info()"
   ]
  },
  {
   "cell_type": "code",
   "execution_count": null,
   "metadata": {},
   "outputs": [],
   "source": [
    "df"
   ]
  },
  {
   "cell_type": "markdown",
   "metadata": {},
   "source": [
    "### Part b\n",
    "Load `data1.csv`. Use the tools we discussed in class to decide whether the data file loaded correctly, and include that code in your lab report. In one or two sentences, describe how you decided on the right combination of parameters needed to load the data. [4 points]"
   ]
  },
  {
   "cell_type": "code",
   "execution_count": 8,
   "metadata": {},
   "outputs": [],
   "source": [
    "df1 = pd.read_csv(\"data1.csv\")"
   ]
  },
  {
   "cell_type": "code",
   "execution_count": 10,
   "metadata": {},
   "outputs": [
    {
     "data": {
      "text/html": [
       "<div>\n",
       "<style scoped>\n",
       "    .dataframe tbody tr th:only-of-type {\n",
       "        vertical-align: middle;\n",
       "    }\n",
       "\n",
       "    .dataframe tbody tr th {\n",
       "        vertical-align: top;\n",
       "    }\n",
       "\n",
       "    .dataframe thead th {\n",
       "        text-align: right;\n",
       "    }\n",
       "</style>\n",
       "<table border=\"1\" class=\"dataframe\">\n",
       "  <thead>\n",
       "    <tr style=\"text-align: right;\">\n",
       "      <th></th>\n",
       "      <th>0</th>\n",
       "      <th>1</th>\n",
       "      <th>2</th>\n",
       "    </tr>\n",
       "  </thead>\n",
       "  <tbody>\n",
       "    <tr>\n",
       "      <th>Source: The World Happiness Report (2018), The Sustainable Development Solutions Network (SDSN)</th>\n",
       "      <td>URL: http://worldhappiness.report/ed/2018</td>\n",
       "      <td>Country</td>\n",
       "      <td>Finland</td>\n",
       "    </tr>\n",
       "    <tr>\n",
       "      <th>Unnamed: 1</th>\n",
       "      <td>NaN</td>\n",
       "      <td>Happiness score</td>\n",
       "      <td>7.632</td>\n",
       "    </tr>\n",
       "    <tr>\n",
       "      <th>Unnamed: 2</th>\n",
       "      <td>NaN</td>\n",
       "      <td>Whisker-high</td>\n",
       "      <td>7.695</td>\n",
       "    </tr>\n",
       "    <tr>\n",
       "      <th>Unnamed: 3</th>\n",
       "      <td>NaN</td>\n",
       "      <td>Whisker-low</td>\n",
       "      <td>7.569</td>\n",
       "    </tr>\n",
       "    <tr>\n",
       "      <th>Unnamed: 4</th>\n",
       "      <td>NaN</td>\n",
       "      <td>Dystopia (1.92) + residual</td>\n",
       "      <td>2.595</td>\n",
       "    </tr>\n",
       "    <tr>\n",
       "      <th>Unnamed: 5</th>\n",
       "      <td>NaN</td>\n",
       "      <td>Explained by: GDP per capita</td>\n",
       "      <td>1.305</td>\n",
       "    </tr>\n",
       "    <tr>\n",
       "      <th>Unnamed: 6</th>\n",
       "      <td>NaN</td>\n",
       "      <td>Explained by: Social support</td>\n",
       "      <td>1.592</td>\n",
       "    </tr>\n",
       "    <tr>\n",
       "      <th>Unnamed: 7</th>\n",
       "      <td>NaN</td>\n",
       "      <td>Explained by: Healthy life expectancy</td>\n",
       "      <td>0.874</td>\n",
       "    </tr>\n",
       "    <tr>\n",
       "      <th>Unnamed: 8</th>\n",
       "      <td>NaN</td>\n",
       "      <td>Explained by: Freedom to make life choices</td>\n",
       "      <td>0.681</td>\n",
       "    </tr>\n",
       "    <tr>\n",
       "      <th>Unnamed: 9</th>\n",
       "      <td>NaN</td>\n",
       "      <td>Explained by: Generosity</td>\n",
       "      <td>0.192</td>\n",
       "    </tr>\n",
       "    <tr>\n",
       "      <th>Unnamed: 10</th>\n",
       "      <td>NaN</td>\n",
       "      <td>Explained by: Perceptions of corruption</td>\n",
       "      <td>0.393</td>\n",
       "    </tr>\n",
       "  </tbody>\n",
       "</table>\n",
       "</div>"
      ],
      "text/plain": [
       "                                                                                            0  \\\n",
       "Source: The World Happiness Report (2018), The ...  URL: http://worldhappiness.report/ed/2018   \n",
       "Unnamed: 1                                                                                NaN   \n",
       "Unnamed: 2                                                                                NaN   \n",
       "Unnamed: 3                                                                                NaN   \n",
       "Unnamed: 4                                                                                NaN   \n",
       "Unnamed: 5                                                                                NaN   \n",
       "Unnamed: 6                                                                                NaN   \n",
       "Unnamed: 7                                                                                NaN   \n",
       "Unnamed: 8                                                                                NaN   \n",
       "Unnamed: 9                                                                                NaN   \n",
       "Unnamed: 10                                                                               NaN   \n",
       "\n",
       "                                                                                             1  \\\n",
       "Source: The World Happiness Report (2018), The ...                                     Country   \n",
       "Unnamed: 1                                                                     Happiness score   \n",
       "Unnamed: 2                                                                        Whisker-high   \n",
       "Unnamed: 3                                                                         Whisker-low   \n",
       "Unnamed: 4                                                          Dystopia (1.92) + residual   \n",
       "Unnamed: 5                                                        Explained by: GDP per capita   \n",
       "Unnamed: 6                                                        Explained by: Social support   \n",
       "Unnamed: 7                                               Explained by: Healthy life expectancy   \n",
       "Unnamed: 8                                          Explained by: Freedom to make life choices   \n",
       "Unnamed: 9                                                            Explained by: Generosity   \n",
       "Unnamed: 10                                            Explained by: Perceptions of corruption   \n",
       "\n",
       "                                                          2  \n",
       "Source: The World Happiness Report (2018), The ...  Finland  \n",
       "Unnamed: 1                                            7.632  \n",
       "Unnamed: 2                                            7.695  \n",
       "Unnamed: 3                                            7.569  \n",
       "Unnamed: 4                                            2.595  \n",
       "Unnamed: 5                                            1.305  \n",
       "Unnamed: 6                                            1.592  \n",
       "Unnamed: 7                                            0.874  \n",
       "Unnamed: 8                                            0.681  \n",
       "Unnamed: 9                                            0.192  \n",
       "Unnamed: 10                                           0.393  "
      ]
     },
     "execution_count": 10,
     "metadata": {},
     "output_type": "execute_result"
    }
   ],
   "source": [
    "df1.head(3).T"
   ]
  },
  {
   "cell_type": "markdown",
   "metadata": {},
   "source": [
    "Columns don't have names because they are located in the third row, so I need to assign a value to a parameter so that it starts from row 2"
   ]
  },
  {
   "cell_type": "code",
   "execution_count": 14,
   "metadata": {},
   "outputs": [],
   "source": [
    "df1 = pd.read_csv(\"data1.csv\", skiprows=2)"
   ]
  },
  {
   "cell_type": "code",
   "execution_count": 15,
   "metadata": {},
   "outputs": [
    {
     "data": {
      "text/html": [
       "<div>\n",
       "<style scoped>\n",
       "    .dataframe tbody tr th:only-of-type {\n",
       "        vertical-align: middle;\n",
       "    }\n",
       "\n",
       "    .dataframe tbody tr th {\n",
       "        vertical-align: top;\n",
       "    }\n",
       "\n",
       "    .dataframe thead th {\n",
       "        text-align: right;\n",
       "    }\n",
       "</style>\n",
       "<table border=\"1\" class=\"dataframe\">\n",
       "  <thead>\n",
       "    <tr style=\"text-align: right;\">\n",
       "      <th></th>\n",
       "      <th>0</th>\n",
       "      <th>1</th>\n",
       "      <th>2</th>\n",
       "    </tr>\n",
       "  </thead>\n",
       "  <tbody>\n",
       "    <tr>\n",
       "      <th>Country</th>\n",
       "      <td>Finland</td>\n",
       "      <td>Norway</td>\n",
       "      <td>Denmark</td>\n",
       "    </tr>\n",
       "    <tr>\n",
       "      <th>Happiness score</th>\n",
       "      <td>7.632</td>\n",
       "      <td>7.594</td>\n",
       "      <td>7.555</td>\n",
       "    </tr>\n",
       "    <tr>\n",
       "      <th>Whisker-high</th>\n",
       "      <td>7.695</td>\n",
       "      <td>7.657</td>\n",
       "      <td>7.623</td>\n",
       "    </tr>\n",
       "    <tr>\n",
       "      <th>Whisker-low</th>\n",
       "      <td>7.569</td>\n",
       "      <td>7.53</td>\n",
       "      <td>7.487</td>\n",
       "    </tr>\n",
       "    <tr>\n",
       "      <th>Dystopia (1.92) + residual</th>\n",
       "      <td>2.595</td>\n",
       "      <td>2.383</td>\n",
       "      <td>2.37</td>\n",
       "    </tr>\n",
       "    <tr>\n",
       "      <th>Explained by: GDP per capita</th>\n",
       "      <td>1.305</td>\n",
       "      <td>1.456</td>\n",
       "      <td>1.351</td>\n",
       "    </tr>\n",
       "    <tr>\n",
       "      <th>Explained by: Social support</th>\n",
       "      <td>1.592</td>\n",
       "      <td>1.582</td>\n",
       "      <td>1.59</td>\n",
       "    </tr>\n",
       "    <tr>\n",
       "      <th>Explained by: Healthy life expectancy</th>\n",
       "      <td>0.874</td>\n",
       "      <td>0.861</td>\n",
       "      <td>0.868</td>\n",
       "    </tr>\n",
       "    <tr>\n",
       "      <th>Explained by: Freedom to make life choices</th>\n",
       "      <td>0.681</td>\n",
       "      <td>0.686</td>\n",
       "      <td>0.683</td>\n",
       "    </tr>\n",
       "    <tr>\n",
       "      <th>Explained by: Generosity</th>\n",
       "      <td>0.192</td>\n",
       "      <td>0.286</td>\n",
       "      <td>0.284</td>\n",
       "    </tr>\n",
       "    <tr>\n",
       "      <th>Explained by: Perceptions of corruption</th>\n",
       "      <td>0.393</td>\n",
       "      <td>0.34</td>\n",
       "      <td>0.408</td>\n",
       "    </tr>\n",
       "  </tbody>\n",
       "</table>\n",
       "</div>"
      ],
      "text/plain": [
       "                                                  0       1        2\n",
       "Country                                     Finland  Norway  Denmark\n",
       "Happiness score                               7.632   7.594    7.555\n",
       "Whisker-high                                  7.695   7.657    7.623\n",
       "Whisker-low                                   7.569    7.53    7.487\n",
       "Dystopia (1.92) + residual                    2.595   2.383     2.37\n",
       "Explained by: GDP per capita                  1.305   1.456    1.351\n",
       "Explained by: Social support                  1.592   1.582     1.59\n",
       "Explained by: Healthy life expectancy         0.874   0.861    0.868\n",
       "Explained by: Freedom to make life choices    0.681   0.686    0.683\n",
       "Explained by: Generosity                      0.192   0.286    0.284\n",
       "Explained by: Perceptions of corruption       0.393    0.34    0.408"
      ]
     },
     "execution_count": 15,
     "metadata": {},
     "output_type": "execute_result"
    }
   ],
   "source": [
    "df1.head(3).T"
   ]
  },
  {
   "cell_type": "markdown",
   "metadata": {},
   "source": [
    "I noticed that the column names were in row 2, so I used the help function to find the parameter that would start reading in the df at the row I needed, which was 'skiprows'. I skipped 2 rows because the df started from 2 rows down."
   ]
  },
  {
   "cell_type": "markdown",
   "metadata": {},
   "source": [
    "### Part c\n",
    "Load `data2.txt`. Use the tools we discussed in class to decide whether the data file loaded correctly, and include that code in your lab report. In one or two sentences, describe how you decided on the right combination of parameters needed to load the data. [6 points]"
   ]
  },
  {
   "cell_type": "markdown",
   "metadata": {},
   "source": [
    "### Part d\n",
    "Load `data3.txt`. Use the tools we discussed in class to decide whether the data file loaded correctly, and include that code in your lab report. In one or two sentences, describe how you decided on the right combination of parameters needed to load the data. [4 points]"
   ]
  },
  {
   "cell_type": "markdown",
   "metadata": {},
   "source": [
    "### Part e\n",
    "Load `data4.txt`. Use the tools we discussed in class to decide whether the data file loaded correctly, and include that code in your lab report. In one or two sentences, describe how you decided on the right combination of parameters needed to load the data. [4 points]"
   ]
  },
  {
   "cell_type": "markdown",
   "metadata": {},
   "source": [
    "### Part f\n",
    "Load `data5.csv`. Use the tools we discussed in class to decide whether the data file loaded correctly, and include that code in your lab report. In one or two sentences, describe how you decided on the right combination of parameters needed to load the data. [4 points]"
   ]
  },
  {
   "cell_type": "markdown",
   "metadata": {},
   "source": [
    "### Part g\n",
    "Load `data6.dat`. Use the tools we discussed in class to decide whether the data file loaded correctly, and include that code in your lab report. In one or two sentences, describe how you decided on the right combination of parameters needed to load the data. (Note: for this question, your result won't look *exactly* like data_clean.csv, and that is OK.) [6 points]"
   ]
  },
  {
   "cell_type": "markdown",
   "metadata": {},
   "source": [
    "### Part h\n",
    "Load `data7.xlsx`, which is an Excel file. Keep only the sheet named “Data”. Use the tools we discussed in class to decide whether the data file loaded correctly, and include that code in your lab report. In one or two sentences, describe how you decided on the right combination of parameters needed to load the data. [4 points]"
   ]
  },
  {
   "cell_type": "markdown",
   "metadata": {},
   "source": [
    "### Part i\n",
    "Load `data8.dta`, which is a Stata 13 file. Use the tools we discussed in class to decide whether the data file loaded correctly, and include that code in your lab report. In one or two sentences, describe how you decided on the right combination of parameters needed to load the data. [4 points]"
   ]
  },
  {
   "cell_type": "markdown",
   "metadata": {},
   "source": [
    "### Part j\n",
    "Load `data9.sav`, which is an SPSS file. Use the tools we discussed in class to decide whether the data file loaded correctly, and include that code in your lab report. In one or two sentences, describe how you decided on the right combination of parameters needed to load the data. [4 points]"
   ]
  },
  {
   "cell_type": "markdown",
   "metadata": {},
   "source": [
    "### Part k\n",
    "Load `data10.xpt`, which is a SAS file. Use the tools we discussed in class to decide whether the data file loaded correctly, and include that code in your lab report. In one or two sentences, describe how you decided on the right combination of parameters needed to load the data. \n",
    "\n",
    "(If some of the country names display as `b'Finland'`, don't worry about that.)\n",
    "\n",
    "(But if you are still worrying about it ... issues like `b'Finland'` indicate a [character encoding](https://en.wikipedia.org/wiki/Character_encoding) issue, in which SAS uses a different encoding method than Python. In this case Python uses a default encoding called [UTF-8](https://en.wikipedia.org/wiki/UTF-8) and this SAS file has encoded characters using [Latin-1](https://en.wikipedia.org/wiki/ISO/IEC_8859-1). To get around this issue, add the `encoding='latin-1'` argument to your read method.) \n",
    "\n",
    "[4 points]"
   ]
  },
  {
   "cell_type": "markdown",
   "metadata": {},
   "source": [
    "### Part l\n",
    "Please load the `data11.txt` file, which is a fixed width file. The columns are defined as follows:\n",
    "\n",
    "| Variable                                   | Width | Start | End |\n",
    "|--------------------------------------------|-------|-------|-----|\n",
    "| Country                                    | 24    | 1     | 24  |\n",
    "| Happiness score                            | 5     | 25    | 29  |\n",
    "| Whisker-high                               | 5     | 30    | 34  |\n",
    "| Whisker-low                                | 5     | 35    | 39  |\n",
    "| Dystopia (1.92) + residual                 | 5     | 40    | 44  |\n",
    "| Explained by: GDP per capita               | 5     | 45    | 49  |\n",
    "| Explained by: Social support               | 5     | 50    | 54  |\n",
    "| Explained by: Healthy life expectancy      | 5     | 55    | 59  |\n",
    "| Explained by: Freedom to make life choices | 5     | 60    | 64  |\n",
    "| Explained by: Generosity                   | 5     | 65    | 69  |\n",
    "| Explained by: Perceptions of corruption    | 5     | 70    | 74  |\n",
    "\n",
    "Then save the this loaded data frame as a CSV file on your local machine. Be sure to use a unique filename so as not to overwrite any existing files. [10 points]"
   ]
  },
  {
   "cell_type": "markdown",
   "metadata": {},
   "source": [
    "## Problem 2\n",
    "This problem walks through how to wrangle some difficult real-world Excel data into Python. This problem is guided, but later in the semester you'll be asked more often to do work with less guidance. \n",
    "\n",
    "The file named \"epa_data.xlsx\" contains data on the reproduction and growth of nine different plant species, measured once in 2010 and once in 2011. The data were compiled from the [EPA's repository](https://catalog.data.gov/dataset/18-excel-spreadsheets-by-species-and-year-giving-reproduction-and-growth-data-one-excel-sp) on data.gov. I placed all of the data into a single file, where the different species/year combinations are placed in different sheets. The file also includes a sheet for herbicide treatment chemistry data, and one sheet for a ReadMe describing some of the columns in the growth data.\n",
    "\n",
    "### Part a\n",
    "If you load an Excel file with multiple sheets into Python using the `sheet_name=None` argument, then every sheet's data will be stored in one big Python dictionary. \n",
    "\n",
    "We will discuss dictionaries (and JSON formatted data) in depth in module 3. However, for this problem, there a few points to know about dictionaries:\n",
    "\n",
    "* Dictionaries are similar to lists, except that they are denoted with curly braces {} instead of square braces [], and that entries in the dictionary are indexed by names instead of numeric positions.\n",
    "\n",
    "* Entries in a dictionary are called values, and the names attached to the entries are called keys. Your output will set the former sheet names as the keys for each data table.\n",
    "\n",
    "* To display one of the values, call the Python variable that contains the dictionary, and index it by the value's key. For example, if you save the data as `epadata`, then you can see the 2010 data for species CALE by typing `epadata['CALE 2010']`. \n",
    "\n",
    "Load all of the data, across all of the sheets, from this Excel file into Python. Then index to one of the values in the resulting dictionary to display one of the former sheets as a pandas dataframe. [8 points]"
   ]
  },
  {
   "cell_type": "markdown",
   "metadata": {},
   "source": [
    "### Part b\n",
    "To see all of the keys in the dictionary, use the `.keys()` method on the data dictionary you created in part a. If you do, you will notice that two keys are not like the others:\n",
    "\n",
    "* `Solution Chemistry` contains different data: information about common pesticides instead of the growth and reproduction of a particular species of plant.\n",
    "\n",
    "* `ReadMe` contains descriptions of some columns in the species-level data.\n",
    "\n",
    "To delete a key and value from a dictionary, use the following syntax `del d[key]`, where `d` is the Python variable that contains the dictionary, and `key` is the name (quotes included) of the key attached to the value you want to remove from the dictionary. If you use this command, the dictionary is altered *in place*, meaning that there is no need to write `d=` before this command in order to make these edits to the dictionary permanent.\n",
    "\n",
    "Delete the `Solution Chemistry` and `ReadMe` data from the dictionary. [8 points]"
   ]
  },
  {
   "cell_type": "markdown",
   "metadata": {},
   "source": [
    "### Part c\n",
    "Combining two data tables with the same columns but entirely different rows is called **appending** data. Our goal is to append all of the remaining data tables together, to create one large dataframe containing all plant species and both 2010 and 2011 data. \n",
    "\n",
    "It is only possible, however, to append data if both data tables have exactly the same column names. If a column in one table is not matched in the other table, the column will be populated with missing values for the rows that come from the second table. There are two reasons why columns might not match: the two tables might not contain the same features, or the two tables contain the same feature but named differently in each table. \n",
    "\n",
    "For example, in this case, some of the sheets have columns that others do not, such as biomass. Other features are present in every sheet, but with different names: year is sometimes spelled with a capital Y.\n",
    "\n",
    "To deal with these issues, we will use a loop over the keys in the dictionary you edited in part b. Begin the loop by typing \n",
    "```\n",
    "for df in d.keys():\n",
    "```\n",
    "where `d` is the name of your dictionary.\n",
    "\n",
    "On the next line, indent (which indicates this line should be run within the loop). Then write\n",
    "```\n",
    "d[df].columns = d[df].columns.str.lower()\n",
    "```\n",
    "which will alter all column names across all of the dataframes to be lower-case.\n",
    "\n",
    "In addition, some of the column names have extra spaces at the end, and that will make columns fail to match as well. To remove these spaces, add the following line to the loop:\n",
    "\n",
    "```\n",
    "d[df].columns = d[df].columns.str.strip()\n",
    "```\n",
    "which removes leading and trailing spaces from each column name. [10 points]"
   ]
  },
  {
   "cell_type": "markdown",
   "metadata": {},
   "source": [
    "### Part d\n",
    "Use the `pd.concat()` method to append all of the dataframes in your dictionary together. You can pass the entire dictionary to the first argument of `pd.concat()`. Specify `ignore_index=True`, which resets the row numbering instead of bringing in the old row numbers from the individual dataframes. [8 points]"
   ]
  },
  {
   "cell_type": "markdown",
   "metadata": {},
   "source": [
    "### Part e\n",
    "Many of the features that were brought into the appended dataframe were only present for one or a small number of the dataframes. Keep only the following features, which are present for most of the species:"
   ]
  },
  {
   "cell_type": "code",
   "execution_count": 37,
   "metadata": {},
   "outputs": [],
   "source": [
    "cols_to_keep = ['year', 'species', 'site', 'plot', 'trt', 'treatment', \n",
    "                'pods', 'cover0', 'arsincover0', 'cover3', 'arsincover3', \n",
    "                'cover5', 'arsincover5']"
   ]
  },
  {
   "cell_type": "markdown",
   "metadata": {},
   "source": [
    "Then save the resulting data in a separate CSV file. [8 points]"
   ]
  }
 ],
 "metadata": {
  "kernelspec": {
   "display_name": "ds6001",
   "language": "python",
   "name": "python3"
  },
  "language_info": {
   "codemirror_mode": {
    "name": "ipython",
    "version": 3
   },
   "file_extension": ".py",
   "mimetype": "text/x-python",
   "name": "python",
   "nbconvert_exporter": "python",
   "pygments_lexer": "ipython3",
   "version": "3.13.5"
  }
 },
 "nbformat": 4,
 "nbformat_minor": 4
}
